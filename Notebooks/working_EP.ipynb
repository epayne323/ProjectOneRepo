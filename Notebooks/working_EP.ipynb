{
 "cells": [
  {
   "cell_type": "markdown",
   "metadata": {},
   "source": [
    "# Wine Consumption and Winery Density Effects on Health and Housing\n",
    "\n",
    "\n",
    "\n",
    "* Determine which plot would best visualize each of the 4 datasets below, and build out those plots.\n",
    "\n"
   ]
  },
  {
   "cell_type": "code",
   "execution_count": 40,
   "metadata": {},
   "outputs": [],
   "source": [
    "import pandas as pd\n",
    "import os\n",
    "import matplotlib.pyplot as plt\n",
    "import numpy as np\n",
    "import requests\n",
    "import json\n",
    "from pprint import pprint"
   ]
  },
  {
   "cell_type": "code",
   "execution_count": 38,
   "metadata": {},
   "outputs": [],
   "source": [
    "wine_regions_df = pd.read_csv(os.path.join(\"..\",\"Data\",\"Raw\",\"Wine_Regions.csv\"))\n",
    "total_wine_producers_df = pd.read_csv(os.path.join(\"..\",\"Data\",\"Clean\",\n",
    "                                                   \"bonded_wine_producers_by_state_1999_june_2019_clean.csv\"))"
   ]
  },
  {
   "cell_type": "code",
   "execution_count": 39,
   "metadata": {},
   "outputs": [
    {
     "data": {
      "text/html": [
       "<div>\n",
       "<style scoped>\n",
       "    .dataframe tbody tr th:only-of-type {\n",
       "        vertical-align: middle;\n",
       "    }\n",
       "\n",
       "    .dataframe tbody tr th {\n",
       "        vertical-align: top;\n",
       "    }\n",
       "\n",
       "    .dataframe thead th {\n",
       "        text-align: right;\n",
       "    }\n",
       "</style>\n",
       "<table border=\"1\" class=\"dataframe\">\n",
       "  <thead>\n",
       "    <tr style=\"text-align: right;\">\n",
       "      <th></th>\n",
       "      <th>STATE</th>\n",
       "      <th>1999</th>\n",
       "      <th>2000</th>\n",
       "      <th>2001</th>\n",
       "      <th>2002</th>\n",
       "      <th>2003</th>\n",
       "      <th>2004</th>\n",
       "      <th>2005</th>\n",
       "      <th>2006</th>\n",
       "      <th>2007</th>\n",
       "      <th>...</th>\n",
       "      <th>2012</th>\n",
       "      <th>2013</th>\n",
       "      <th>2014</th>\n",
       "      <th>2015</th>\n",
       "      <th>2016</th>\n",
       "      <th>2017</th>\n",
       "      <th>2018</th>\n",
       "      <th>Through 3/31/2019</th>\n",
       "      <th>Through 6/30/2019</th>\n",
       "      <th>Through 9/30/2019</th>\n",
       "    </tr>\n",
       "  </thead>\n",
       "  <tbody>\n",
       "    <tr>\n",
       "      <td>0</td>\n",
       "      <td>AK</td>\n",
       "      <td>4</td>\n",
       "      <td>4</td>\n",
       "      <td>4</td>\n",
       "      <td>4</td>\n",
       "      <td>4</td>\n",
       "      <td>6</td>\n",
       "      <td>6</td>\n",
       "      <td>9</td>\n",
       "      <td>9</td>\n",
       "      <td>...</td>\n",
       "      <td>8</td>\n",
       "      <td>10</td>\n",
       "      <td>9</td>\n",
       "      <td>6</td>\n",
       "      <td>7</td>\n",
       "      <td>7</td>\n",
       "      <td>10</td>\n",
       "      <td>10</td>\n",
       "      <td>11</td>\n",
       "      <td>12</td>\n",
       "    </tr>\n",
       "    <tr>\n",
       "      <td>1</td>\n",
       "      <td>AL</td>\n",
       "      <td>4</td>\n",
       "      <td>5</td>\n",
       "      <td>6</td>\n",
       "      <td>5</td>\n",
       "      <td>5</td>\n",
       "      <td>5</td>\n",
       "      <td>8</td>\n",
       "      <td>8</td>\n",
       "      <td>9</td>\n",
       "      <td>...</td>\n",
       "      <td>18</td>\n",
       "      <td>21</td>\n",
       "      <td>25</td>\n",
       "      <td>29</td>\n",
       "      <td>33</td>\n",
       "      <td>37</td>\n",
       "      <td>42</td>\n",
       "      <td>42</td>\n",
       "      <td>47</td>\n",
       "      <td>48</td>\n",
       "    </tr>\n",
       "    <tr>\n",
       "      <td>2</td>\n",
       "      <td>AR</td>\n",
       "      <td>11</td>\n",
       "      <td>11</td>\n",
       "      <td>10</td>\n",
       "      <td>10</td>\n",
       "      <td>10</td>\n",
       "      <td>8</td>\n",
       "      <td>8</td>\n",
       "      <td>11</td>\n",
       "      <td>13</td>\n",
       "      <td>...</td>\n",
       "      <td>20</td>\n",
       "      <td>25</td>\n",
       "      <td>29</td>\n",
       "      <td>30</td>\n",
       "      <td>30</td>\n",
       "      <td>34</td>\n",
       "      <td>36</td>\n",
       "      <td>36</td>\n",
       "      <td>35</td>\n",
       "      <td>35</td>\n",
       "    </tr>\n",
       "    <tr>\n",
       "      <td>3</td>\n",
       "      <td>AZ</td>\n",
       "      <td>12</td>\n",
       "      <td>10</td>\n",
       "      <td>11</td>\n",
       "      <td>13</td>\n",
       "      <td>13</td>\n",
       "      <td>19</td>\n",
       "      <td>21</td>\n",
       "      <td>27</td>\n",
       "      <td>33</td>\n",
       "      <td>...</td>\n",
       "      <td>58</td>\n",
       "      <td>66</td>\n",
       "      <td>71</td>\n",
       "      <td>75</td>\n",
       "      <td>87</td>\n",
       "      <td>94</td>\n",
       "      <td>111</td>\n",
       "      <td>118</td>\n",
       "      <td>122</td>\n",
       "      <td>125</td>\n",
       "    </tr>\n",
       "    <tr>\n",
       "      <td>4</td>\n",
       "      <td>CA</td>\n",
       "      <td>1,364</td>\n",
       "      <td>1,450</td>\n",
       "      <td>1,562</td>\n",
       "      <td>1,704</td>\n",
       "      <td>1,869</td>\n",
       "      <td>2,059</td>\n",
       "      <td>2,275</td>\n",
       "      <td>2,447</td>\n",
       "      <td>2,687</td>\n",
       "      <td>...</td>\n",
       "      <td>3,754</td>\n",
       "      <td>4,061</td>\n",
       "      <td>4,285</td>\n",
       "      <td>4,416</td>\n",
       "      <td>4,653</td>\n",
       "      <td>4,836</td>\n",
       "      <td>5,217</td>\n",
       "      <td>5,309</td>\n",
       "      <td>5,364</td>\n",
       "      <td>5,443</td>\n",
       "    </tr>\n",
       "  </tbody>\n",
       "</table>\n",
       "<p>5 rows × 24 columns</p>\n",
       "</div>"
      ],
      "text/plain": [
       "  STATE   1999   2000   2001   2002   2003   2004   2005   2006   2007  ...  \\\n",
       "0    AK      4      4      4      4      4      6      6      9      9  ...   \n",
       "1    AL      4      5      6      5      5      5      8      8      9  ...   \n",
       "2    AR     11     11     10     10     10      8      8     11     13  ...   \n",
       "3    AZ     12     10     11     13     13     19     21     27     33  ...   \n",
       "4    CA  1,364  1,450  1,562  1,704  1,869  2,059  2,275  2,447  2,687  ...   \n",
       "\n",
       "    2012   2013   2014   2015   2016   2017   2018 Through 3/31/2019  \\\n",
       "0      8     10      9      6      7      7     10                10   \n",
       "1     18     21     25     29     33     37     42                42   \n",
       "2     20     25     29     30     30     34     36                36   \n",
       "3     58     66     71     75     87     94    111               118   \n",
       "4  3,754  4,061  4,285  4,416  4,653  4,836  5,217             5,309   \n",
       "\n",
       "  Through 6/30/2019 Through 9/30/2019  \n",
       "0                11                12  \n",
       "1                47                48  \n",
       "2                35                35  \n",
       "3               122               125  \n",
       "4             5,364             5,443  \n",
       "\n",
       "[5 rows x 24 columns]"
      ]
     },
     "execution_count": 39,
     "metadata": {},
     "output_type": "execute_result"
    }
   ],
   "source": [
    "# wine_regions_df.sort_values(\"Vineyards\", ascending=False).head(10)[\"Vineyards\"]\n",
    "total_wine_producers_df.head()\n",
    "\n"
   ]
  },
  {
   "cell_type": "code",
   "execution_count": 27,
   "metadata": {},
   "outputs": [
    {
     "data": {
      "text/plain": [
       "88              North Coast\n",
       "90          Northern Sonoma\n",
       "162       Willamette Valley\n",
       "139            Sonoma Coast\n",
       "22            Central Coast\n",
       "112    Russian River Valley\n",
       "87              Napa Valley\n",
       "141           Sonoma Valley\n",
       "33          Columbia Valley\n",
       "96              Paso Robles\n",
       "1          Alexander Valley\n",
       "42         Dry Creek Valley\n",
       "25       Chehalem Mountains\n",
       "83                 Monterey\n",
       "143         Southern Oregon\n",
       "57             Green Valley\n",
       "49       Eola - Amity Hills\n",
       "158      Walla Walla Valley\n",
       "56             Grand Valley\n",
       "165         Yamhill-Carlton\n",
       "Name: Region Name, dtype: object"
      ]
     },
     "execution_count": 27,
     "metadata": {},
     "output_type": "execute_result"
    }
   ],
   "source": [
    "top_vineyards = wine_regions_df.sort_values(\"Vineyards\",ascending=False).\\\n",
    "head(20)[[\"Region Name\",\"Vineyards\"]]\n",
    "top_vineyards[\"Region Name\"]"
   ]
  },
  {
   "cell_type": "code",
   "execution_count": 35,
   "metadata": {},
   "outputs": [
    {
     "data": {
      "text/plain": [
       "([<matplotlib.axis.XTick at 0x20ad83fb198>,\n",
       "  <matplotlib.axis.XTick at 0x20ad83fbcf8>,\n",
       "  <matplotlib.axis.XTick at 0x20ad83fbba8>,\n",
       "  <matplotlib.axis.XTick at 0x20ad868dac8>,\n",
       "  <matplotlib.axis.XTick at 0x20ad868df60>,\n",
       "  <matplotlib.axis.XTick at 0x20ad869a470>,\n",
       "  <matplotlib.axis.XTick at 0x20ad869a940>,\n",
       "  <matplotlib.axis.XTick at 0x20ad869ae10>,\n",
       "  <matplotlib.axis.XTick at 0x20ad86a2320>,\n",
       "  <matplotlib.axis.XTick at 0x20ad86a27f0>,\n",
       "  <matplotlib.axis.XTick at 0x20ad86a2cc0>,\n",
       "  <matplotlib.axis.XTick at 0x20ad86a2898>,\n",
       "  <matplotlib.axis.XTick at 0x20ad869a5c0>,\n",
       "  <matplotlib.axis.XTick at 0x20ad86aa160>,\n",
       "  <matplotlib.axis.XTick at 0x20ad86aa5c0>,\n",
       "  <matplotlib.axis.XTick at 0x20ad86aaa90>,\n",
       "  <matplotlib.axis.XTick at 0x20ad86aaf60>,\n",
       "  <matplotlib.axis.XTick at 0x20ad86b1470>,\n",
       "  <matplotlib.axis.XTick at 0x20ad86b1940>,\n",
       "  <matplotlib.axis.XTick at 0x20ad86b1e10>],\n",
       " <a list of 20 Text xticklabel objects>)"
      ]
     },
     "execution_count": 35,
     "metadata": {},
     "output_type": "execute_result"
    },
    {
     "data": {
      "image/png": "[encoded data removed]",
      "text/plain": [
       "<Figure size 720x504 with 1 Axes>"
      ]
     },
     "metadata": {
      "needs_background": "light"
     },
     "output_type": "display_data"
    }
   ],
   "source": [
    "xticks = np.arange(20)\n",
    "plt.figure(figsize=(10,7))\n",
    "plt.bar(xticks, top_vineyards[\"Vineyards\"])\n",
    "plt.xticks(xticks, top_vineyards[\"Region Name\"], rotation=45, ha=\"right\")\n"
   ]
  },
  {
   "cell_type": "code",
   "execution_count": 160,
   "metadata": {},
   "outputs": [
    {
     "data": {
      "text/html": [
       "<div>\n",
       "<style scoped>\n",
       "    .dataframe tbody tr th:only-of-type {\n",
       "        vertical-align: middle;\n",
       "    }\n",
       "\n",
       "    .dataframe tbody tr th {\n",
       "        vertical-align: top;\n",
       "    }\n",
       "\n",
       "    .dataframe thead th {\n",
       "        text-align: right;\n",
       "    }\n",
       "</style>\n",
       "<table border=\"1\" class=\"dataframe\">\n",
       "  <thead>\n",
       "    <tr style=\"text-align: right;\">\n",
       "      <th></th>\n",
       "      <th>CITY</th>\n",
       "      <th>CITYNAME</th>\n",
       "      <th>COUNTY</th>\n",
       "      <th>COUNTYNAME</th>\n",
       "      <th>CaseYear</th>\n",
       "      <th>FATALS</th>\n",
       "      <th>LATITUDE</th>\n",
       "      <th>LONGITUD</th>\n",
       "      <th>STATE</th>\n",
       "      <th>STATENAME</th>\n",
       "      <th>ST_CASE</th>\n",
       "      <th>TOTALVEHICLES</th>\n",
       "      <th>TWAY_ID</th>\n",
       "      <th>TWAY_ID2</th>\n",
       "      <th>VE_FORMS</th>\n",
       "    </tr>\n",
       "  </thead>\n",
       "  <tbody>\n",
       "  </tbody>\n",
       "</table>\n",
       "</div>"
      ],
      "text/plain": [
       "Empty DataFrame\n",
       "Columns: [CITY, CITYNAME, COUNTY, COUNTYNAME, CaseYear, FATALS, LATITUDE, LONGITUD, STATE, STATENAME, ST_CASE, TOTALVEHICLES, TWAY_ID, TWAY_ID2, VE_FORMS]\n",
       "Index: []"
      ]
     },
     "execution_count": 160,
     "metadata": {},
     "output_type": "execute_result"
    }
   ],
   "source": [
    "# a single request to get the names of the columns\n",
    "crash_params = \\\n",
    "    {\n",
    "        \"fromCaseYear\" : \"2011\",\n",
    "        \"toCaseYear\" : \"2011\",\n",
    "        \"state\" : \"6\",\n",
    "        \"county\" : \"\",\n",
    "        \"format\": \"json\"\n",
    "    }\n",
    "response = requests.get(crashes_loc_base_url, params=crash_params).json()\n",
    "crash_df = pd.DataFrame(response[\"Results\"][0])\n",
    "# removing all rows:\n",
    "crash_df = crash_df.drop(crash_df.index[:])\n",
    "# crash_df = crash_df.append(response[\"Results\"][0])\n",
    "crash_df.head()"
   ]
  },
  {
   "cell_type": "code",
   "execution_count": null,
   "metadata": {},
   "outputs": [],
   "source": [
    "crashes_loc_base_url = \"https://crashviewer.nhtsa.dot.gov/CrashAPI/crashes/GetCrashesByLocation?\"\n",
    "\n",
    "nCrashes = [None]*54\n",
    "c = 0\n",
    "# California, Coloarado, Idaho, Oregon, Texas, Washington\n",
    "state_ids = [6, 8, 16, 41, 48, 53]\n",
    "for year in range(2010, 2019, 1):\n",
    "    for state in state_ids:\n",
    "        crash_params = \\\n",
    "        {\n",
    "            \"fromCaseYear\" : str(year),\n",
    "            \"toCaseYear\" : str(year),\n",
    "            \"state\" : str(state),\n",
    "            \"county\" : \"\",\n",
    "            \"format\": \"json\"\n",
    "        }\n",
    "        \n",
    "        response = requests.get(crashes_loc_base_url, params=crash_params)\n",
    "        response_json = response.json()\n",
    "        if response.status_code == 200:\n",
    "            try:\n",
    "                crash_df = crash_df.append(response_json[\"Results\"][0])\n",
    "                nCrashes[c] = len(response_json[\"Results\"][0])\n",
    "            except IndexError: \n",
    "                continue\n",
    "        c += 1"
   ]
  },
  {
   "cell_type": "code",
   "execution_count": 173,
   "metadata": {},
   "outputs": [
    {
     "data": {
      "text/plain": [
       "(150366, 15)"
      ]
     },
     "execution_count": 173,
     "metadata": {},
     "output_type": "execute_result"
    }
   ],
   "source": [
    "crash_df.shape"
   ]
  },
  {
   "cell_type": "code",
   "execution_count": 177,
   "metadata": {},
   "outputs": [],
   "source": [
    "crash_df.to_csv(os.path.join(\"..\", \"Data\", \"Raw\", \"crashes_top_6_wine_states_2010-2018.csv\"))"
   ]
  },
  {
   "cell_type": "code",
   "execution_count": null,
   "metadata": {},
   "outputs": [],
   "source": []
  }
 ],
 "metadata": {
  "kernelspec": {
   "display_name": "Python 3",
   "language": "python",
   "name": "python3"
  },
  "language_info": {
   "codemirror_mode": {
    "name": "ipython",
    "version": 3
   },
   "file_extension": ".py",
   "mimetype": "text/x-python",
   "name": "python",
   "nbconvert_exporter": "python",
   "pygments_lexer": "ipython3",
   "version": "3.7.3"
  }
 },
 "nbformat": 4,
 "nbformat_minor": 2
}
