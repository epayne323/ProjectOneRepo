{
 "cells": [
  {
   "cell_type": "code",
   "execution_count": 11,
   "metadata": {},
   "outputs": [
    {
     "data": {
      "text/plain": [
       "SUMLEV         False\n",
       "REGION         False\n",
       "DIVISION       False\n",
       "STATE          False\n",
       "COUNTY         False\n",
       "               ...  \n",
       "RNETMIG2014    False\n",
       "RNETMIG2015    False\n",
       "RNETMIG2016    False\n",
       "RNETMIG2017    False\n",
       "RNETMIG2018    False\n",
       "Length: 148, dtype: bool"
      ]
     },
     "execution_count": 11,
     "metadata": {},
     "output_type": "execute_result"
    }
   ],
   "source": [
    "import pandas as pd\n",
    "import os\n",
    "\n",
    "csvpath = os.path.join('..', 'Data','Raw', 'Annual_Resident_Population_Estimates_UTF8.csv')\n",
    "file_df = pd.read_csv(csvpath)\n",
    "\n",
    "file_df.isnull().any()"
   ]
  },
  {
   "cell_type": "code",
   "execution_count": 12,
   "metadata": {},
   "outputs": [
    {
     "data": {
      "text/plain": [
       "SUMLEV         3193\n",
       "REGION         3193\n",
       "DIVISION       3193\n",
       "STATE          3193\n",
       "COUNTY         3193\n",
       "               ... \n",
       "RNETMIG2014    3193\n",
       "RNETMIG2015    3193\n",
       "RNETMIG2016    3193\n",
       "RNETMIG2017    3193\n",
       "RNETMIG2018    3193\n",
       "Length: 148, dtype: int64"
      ]
     },
     "execution_count": 12,
     "metadata": {},
     "output_type": "execute_result"
    }
   ],
   "source": [
    "file_df.count()"
   ]
  },
  {
   "cell_type": "code",
   "execution_count": null,
   "metadata": {},
   "outputs": [],
   "source": []
  }
 ],
 "metadata": {
  "kernelspec": {
   "display_name": "Python 3",
   "language": "python",
   "name": "python3"
  },
  "language_info": {
   "codemirror_mode": {
    "name": "ipython",
    "version": 3
   },
   "file_extension": ".py",
   "mimetype": "text/x-python",
   "name": "python",
   "nbconvert_exporter": "python",
   "pygments_lexer": "ipython3",
   "version": "3.7.4"
  }
 },
 "nbformat": 4,
 "nbformat_minor": 2
}
