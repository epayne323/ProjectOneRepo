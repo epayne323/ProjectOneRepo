{
 "cells": [
  {
   "cell_type": "code",
   "execution_count": 1,
   "metadata": {},
   "outputs": [],
   "source": [
    "import pandas as pd\n",
    "import os\n",
    "import numpy as np\n",
    "import matplotlib.pyplot as plt"
   ]
  },
  {
   "cell_type": "markdown",
   "metadata": {},
   "source": [
    "# Winery Growth in the US from (2009 - 2017)"
   ]
  },
  {
   "cell_type": "code",
   "execution_count": 3,
   "metadata": {},
   "outputs": [
    {
     "data": {
      "text/html": [
       "<div>\n",
       "<style scoped>\n",
       "    .dataframe tbody tr th:only-of-type {\n",
       "        vertical-align: middle;\n",
       "    }\n",
       "\n",
       "    .dataframe tbody tr th {\n",
       "        vertical-align: top;\n",
       "    }\n",
       "\n",
       "    .dataframe thead th {\n",
       "        text-align: right;\n",
       "    }\n",
       "</style>\n",
       "<table border=\"1\" class=\"dataframe\">\n",
       "  <thead>\n",
       "    <tr style=\"text-align: right;\">\n",
       "      <th></th>\n",
       "      <th>year</th>\n",
       "      <th>number of wineries in US</th>\n",
       "    </tr>\n",
       "  </thead>\n",
       "  <tbody>\n",
       "    <tr>\n",
       "      <td>0</td>\n",
       "      <td>2009</td>\n",
       "      <td>6,357</td>\n",
       "    </tr>\n",
       "    <tr>\n",
       "      <td>1</td>\n",
       "      <td>2010</td>\n",
       "      <td>6,941</td>\n",
       "    </tr>\n",
       "    <tr>\n",
       "      <td>2</td>\n",
       "      <td>2011</td>\n",
       "      <td>7,306</td>\n",
       "    </tr>\n",
       "    <tr>\n",
       "      <td>3</td>\n",
       "      <td>2012</td>\n",
       "      <td>7,396</td>\n",
       "    </tr>\n",
       "    <tr>\n",
       "      <td>4</td>\n",
       "      <td>2013</td>\n",
       "      <td>7,498</td>\n",
       "    </tr>\n",
       "    <tr>\n",
       "      <td>5</td>\n",
       "      <td>2014</td>\n",
       "      <td>7,762</td>\n",
       "    </tr>\n",
       "    <tr>\n",
       "      <td>6</td>\n",
       "      <td>2015</td>\n",
       "      <td>8,287</td>\n",
       "    </tr>\n",
       "    <tr>\n",
       "      <td>7</td>\n",
       "      <td>2016</td>\n",
       "      <td>8,702</td>\n",
       "    </tr>\n",
       "    <tr>\n",
       "      <td>8</td>\n",
       "      <td>2017</td>\n",
       "      <td>9,091</td>\n",
       "    </tr>\n",
       "    <tr>\n",
       "      <td>9</td>\n",
       "      <td>2018</td>\n",
       "      <td>9,654</td>\n",
       "    </tr>\n",
       "  </tbody>\n",
       "</table>\n",
       "</div>"
      ],
      "text/plain": [
       "   year number of wineries in US\n",
       "0  2009                    6,357\n",
       "1  2010                    6,941\n",
       "2  2011                    7,306\n",
       "3  2012                    7,396\n",
       "4  2013                    7,498\n",
       "5  2014                    7,762\n",
       "6  2015                    8,287\n",
       "7  2016                    8,702\n",
       "8  2017                    9,091\n",
       "9  2018                    9,654"
      ]
     },
     "execution_count": 3,
     "metadata": {},
     "output_type": "execute_result"
    }
   ],
   "source": [
    "csvpath_WR = os.path.join('..', 'Data','Clean', 'us_wineries_2009_2019_clean.csv')\n",
    "WR_df = pd.read_csv(csvpath_WR)\n",
    "WR_df"
   ]
  },
  {
   "cell_type": "code",
   "execution_count": null,
   "metadata": {},
   "outputs": [],
   "source": [
    "file_df"
   ]
  },
  {
   "cell_type": "code",
   "execution_count": null,
   "metadata": {},
   "outputs": [],
   "source": [
    "# Plot Vineyards, Wineries and Testing rooms\n",
    "data_df = file_df[['State','Vineyards','Wineries','Tasting Rooms']]\n",
    "group_df = data_df.groupby('State').sum()\n",
    "group_df\n",
    "\n",
    "# Unsure if the below data is a snapshot on a particular year"
   ]
  },
  {
   "cell_type": "markdown",
   "metadata": {},
   "source": [
    "# 2-Check us_wineries_2009_2019_clean.csv"
   ]
  },
  {
   "cell_type": "code",
   "execution_count": null,
   "metadata": {
    "scrolled": true
   },
   "outputs": [],
   "source": [
    "\n",
    "csvpath1 = os.path.join('..', 'Data','Clean', 'us_wineries_2009_2019_clean.csv')\n",
    "file_df1 = pd.read_csv(csvpath1)\n",
    "\n",
    "file_df1"
   ]
  },
  {
   "cell_type": "markdown",
   "metadata": {},
   "source": [
    "# 3-Check Bonded_wine_producers_by_state_1999_june_2019_clean.csv"
   ]
  },
  {
   "cell_type": "code",
   "execution_count": null,
   "metadata": {},
   "outputs": [],
   "source": [
    "\n",
    "csvpath2 = os.path.join('..', 'Data','Clean', 'Bonded_wine_producers_by_state_1999_june_2019_clean.csv')\n",
    "file_df2 = pd.read_csv(csvpath2)\n",
    "file_df2."
   ]
  },
  {
   "cell_type": "code",
   "execution_count": null,
   "metadata": {
    "scrolled": true
   },
   "outputs": [],
   "source": [
    "#Investigating rows with Null values\n",
    "file_df2.loc[file_df2.isnull().any(axis=1)]"
   ]
  },
  {
   "cell_type": "code",
   "execution_count": null,
   "metadata": {},
   "outputs": [],
   "source": [
    "# Replace all NaN values with 0 \n",
    "cleaned_df = file_df2.fillna(0)\n",
    "\n",
    "# Drop Throu"
   ]
  },
  {
   "cell_type": "markdown",
   "metadata": {},
   "source": [
    "# 4-Check Alcohol_Use_Persons_21_or_Older_by_Geographic_Socioeconomic_in_Thousands_2017_2018.csv"
   ]
  },
  {
   "cell_type": "code",
   "execution_count": null,
   "metadata": {
    "scrolled": true
   },
   "outputs": [],
   "source": [
    "csvpath3 = os.path.join('..', 'Data','Clean', 'Alcohol_Use_Persons_21_or_Older_by_Geographic_Socioeconomic_in_Thousands_2017_2018.csv')\n",
    "file_df3 = pd.read_csv(csvpath3)\n",
    "\n",
    "file_df3.head()"
   ]
  },
  {
   "cell_type": "markdown",
   "metadata": {},
   "source": [
    "# 5-Check per_capita_alcohol_consumption_geographic_1977_2017_clean.csv"
   ]
  },
  {
   "cell_type": "code",
   "execution_count": 4,
   "metadata": {},
   "outputs": [
    {
     "data": {
      "text/html": [
       "<div>\n",
       "<style scoped>\n",
       "    .dataframe tbody tr th:only-of-type {\n",
       "        vertical-align: middle;\n",
       "    }\n",
       "\n",
       "    .dataframe tbody tr th {\n",
       "        vertical-align: top;\n",
       "    }\n",
       "\n",
       "    .dataframe thead th {\n",
       "        text-align: right;\n",
       "    }\n",
       "</style>\n",
       "<table border=\"1\" class=\"dataframe\">\n",
       "  <thead>\n",
       "    <tr style=\"text-align: right;\">\n",
       "      <th></th>\n",
       "      <th>geographic area</th>\n",
       "      <th>Year</th>\n",
       "      <th>Beer</th>\n",
       "      <th>Wine</th>\n",
       "      <th>Spirits</th>\n",
       "      <th>All beverages</th>\n",
       "      <th>Decile all beverages</th>\n",
       "    </tr>\n",
       "  </thead>\n",
       "  <tbody>\n",
       "    <tr>\n",
       "      <td>0</td>\n",
       "      <td>Alabama</td>\n",
       "      <td>2017.0</td>\n",
       "      <td>1.06</td>\n",
       "      <td>0.26</td>\n",
       "      <td>0.67</td>\n",
       "      <td>1.99</td>\n",
       "      <td>9.0</td>\n",
       "    </tr>\n",
       "    <tr>\n",
       "      <td>1</td>\n",
       "      <td>Alabama</td>\n",
       "      <td>2016.0</td>\n",
       "      <td>1.09</td>\n",
       "      <td>0.26</td>\n",
       "      <td>0.65</td>\n",
       "      <td>2.01</td>\n",
       "      <td>9.0</td>\n",
       "    </tr>\n",
       "    <tr>\n",
       "      <td>2</td>\n",
       "      <td>Alabama</td>\n",
       "      <td>2015.0</td>\n",
       "      <td>1.12</td>\n",
       "      <td>0.26</td>\n",
       "      <td>0.64</td>\n",
       "      <td>2.01</td>\n",
       "      <td>9.0</td>\n",
       "    </tr>\n",
       "    <tr>\n",
       "      <td>3</td>\n",
       "      <td>Alabama</td>\n",
       "      <td>2014.0</td>\n",
       "      <td>1.13</td>\n",
       "      <td>0.25</td>\n",
       "      <td>0.62</td>\n",
       "      <td>2.00</td>\n",
       "      <td>9.0</td>\n",
       "    </tr>\n",
       "    <tr>\n",
       "      <td>4</td>\n",
       "      <td>Alabama</td>\n",
       "      <td>2013.0</td>\n",
       "      <td>1.14</td>\n",
       "      <td>0.25</td>\n",
       "      <td>0.60</td>\n",
       "      <td>1.99</td>\n",
       "      <td>9.0</td>\n",
       "    </tr>\n",
       "    <tr>\n",
       "      <td>...</td>\n",
       "      <td>...</td>\n",
       "      <td>...</td>\n",
       "      <td>...</td>\n",
       "      <td>...</td>\n",
       "      <td>...</td>\n",
       "      <td>...</td>\n",
       "      <td>...</td>\n",
       "    </tr>\n",
       "    <tr>\n",
       "      <td>2291</td>\n",
       "      <td>U.S. total</td>\n",
       "      <td>1981.0</td>\n",
       "      <td>1.39</td>\n",
       "      <td>0.35</td>\n",
       "      <td>1.02</td>\n",
       "      <td>2.76</td>\n",
       "      <td>0.0</td>\n",
       "    </tr>\n",
       "    <tr>\n",
       "      <td>2292</td>\n",
       "      <td>U.S. total</td>\n",
       "      <td>1980.0</td>\n",
       "      <td>1.37</td>\n",
       "      <td>0.34</td>\n",
       "      <td>1.04</td>\n",
       "      <td>2.75</td>\n",
       "      <td>0.0</td>\n",
       "    </tr>\n",
       "    <tr>\n",
       "      <td>2293</td>\n",
       "      <td>U.S. total</td>\n",
       "      <td>1979.0</td>\n",
       "      <td>1.34</td>\n",
       "      <td>0.31</td>\n",
       "      <td>1.04</td>\n",
       "      <td>2.70</td>\n",
       "      <td>0.0</td>\n",
       "    </tr>\n",
       "    <tr>\n",
       "      <td>2294</td>\n",
       "      <td>U.S. total</td>\n",
       "      <td>1978.0</td>\n",
       "      <td>1.30</td>\n",
       "      <td>0.30</td>\n",
       "      <td>1.05</td>\n",
       "      <td>2.66</td>\n",
       "      <td>0.0</td>\n",
       "    </tr>\n",
       "    <tr>\n",
       "      <td>2295</td>\n",
       "      <td>U.S. total</td>\n",
       "      <td>1977.0</td>\n",
       "      <td>1.27</td>\n",
       "      <td>0.29</td>\n",
       "      <td>1.04</td>\n",
       "      <td>2.60</td>\n",
       "      <td>0.0</td>\n",
       "    </tr>\n",
       "  </tbody>\n",
       "</table>\n",
       "<p>2296 rows × 7 columns</p>\n",
       "</div>"
      ],
      "text/plain": [
       "     geographic area    Year  Beer  Wine  Spirits  All beverages  \\\n",
       "0            Alabama  2017.0  1.06  0.26     0.67           1.99   \n",
       "1            Alabama  2016.0  1.09  0.26     0.65           2.01   \n",
       "2            Alabama  2015.0  1.12  0.26     0.64           2.01   \n",
       "3            Alabama  2014.0  1.13  0.25     0.62           2.00   \n",
       "4            Alabama  2013.0  1.14  0.25     0.60           1.99   \n",
       "...              ...     ...   ...   ...      ...            ...   \n",
       "2291      U.S. total  1981.0  1.39  0.35     1.02           2.76   \n",
       "2292      U.S. total  1980.0  1.37  0.34     1.04           2.75   \n",
       "2293      U.S. total  1979.0  1.34  0.31     1.04           2.70   \n",
       "2294      U.S. total  1978.0  1.30  0.30     1.05           2.66   \n",
       "2295      U.S. total  1977.0  1.27  0.29     1.04           2.60   \n",
       "\n",
       "      Decile all beverages  \n",
       "0                      9.0  \n",
       "1                      9.0  \n",
       "2                      9.0  \n",
       "3                      9.0  \n",
       "4                      9.0  \n",
       "...                    ...  \n",
       "2291                   0.0  \n",
       "2292                   0.0  \n",
       "2293                   0.0  \n",
       "2294                   0.0  \n",
       "2295                   0.0  \n",
       "\n",
       "[2296 rows x 7 columns]"
      ]
     },
     "execution_count": 4,
     "metadata": {},
     "output_type": "execute_result"
    }
   ],
   "source": [
    "csvpath4 = os.path.join('..', 'Data','Clean', 'per_capita_alcohol_consumption_geographic_1977_2017_clean.csv')\n",
    "file_df4 = pd.read_csv(csvpath4)\n",
    "\n",
    "file_df4"
   ]
  },
  {
   "cell_type": "markdown",
   "metadata": {},
   "source": [
    "# 6-Check NIAAA_2017_Alcohol_Consumption_2017_Clean.csv"
   ]
  },
  {
   "cell_type": "code",
   "execution_count": null,
   "metadata": {
    "scrolled": true
   },
   "outputs": [],
   "source": [
    "csvpath5 = os.path.join('..', 'Data','Clean', 'NIAAA_2017_Alcohol_Consumption_2017_Clean.csv')\n",
    "file_df5 = pd.read_csv(csvpath5)\n",
    "\n",
    "file_df5.head()"
   ]
  },
  {
   "cell_type": "markdown",
   "metadata": {},
   "source": [
    "# 7-Check Annual_Resident_Population_Estimates_UTF8.csv"
   ]
  },
  {
   "cell_type": "code",
   "execution_count": null,
   "metadata": {
    "scrolled": true
   },
   "outputs": [],
   "source": [
    "csvpath6 = os.path.join('..', 'Data','Clean', 'Annual_Resident_Population_Estimates_UTF8.csv')\n",
    "file_df6 = pd.read_csv(csvpath6)\n",
    "\n",
    "file_df6.head()"
   ]
  },
  {
   "cell_type": "code",
   "execution_count": null,
   "metadata": {},
   "outputs": [],
   "source": []
  }
 ],
 "metadata": {
  "kernelspec": {
   "display_name": "Python 3",
   "language": "python",
   "name": "python3"
  },
  "language_info": {
   "codemirror_mode": {
    "name": "ipython",
    "version": 3
   },
   "file_extension": ".py",
   "mimetype": "text/x-python",
   "name": "python",
   "nbconvert_exporter": "python",
   "pygments_lexer": "ipython3",
   "version": "3.7.4"
  }
 },
 "nbformat": 4,
 "nbformat_minor": 2
}
