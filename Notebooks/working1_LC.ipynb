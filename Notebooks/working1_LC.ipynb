{
 "cells": [
  {
   "cell_type": "code",
   "execution_count": null,
   "metadata": {},
   "outputs": [],
   "source": [
    "%matplotlib notebook"
   ]
  },
  {
   "cell_type": "code",
   "execution_count": 1,
   "metadata": {},
   "outputs": [],
   "source": [
    "import pandas as pd\n",
    "import os\n",
    "import numpy as np\n",
    "import matplotlib.pyplot as plt"
   ]
  },
  {
   "cell_type": "markdown",
   "metadata": {},
   "source": [
    "# Winery Growth in the US from (2009 - 2017)"
   ]
  },
  {
   "cell_type": "code",
   "execution_count": 2,
   "metadata": {
    "scrolled": true
   },
   "outputs": [],
   "source": [
    "csvpath_WR = os.path.join('..', 'Data','Clean', 'us_wineries_2009_2019_clean.csv')\n",
    "csvpath_AC = os.path.join('..', 'Data','Clean', 'Per_Capita_alcohol_graph.csv')\n",
    "WR_df = pd.read_csv(csvpath_WR)\n",
    "AC_df = pd.read_csv(csvpath_AC)\n",
    "#Renaming Columns\n",
    "WR_df = WR_df.rename(columns={'year':'Year', 'number of wineries in US':'# Wineries in US'})\n",
    "AC_df = AC_df.rename(columns={'Wine':'Per capita_Gal of wine'})"
   ]
  },
  {
   "cell_type": "code",
   "execution_count": 3,
   "metadata": {},
   "outputs": [
    {
     "data": {
      "text/html": [
       "<div>\n",
       "<style scoped>\n",
       "    .dataframe tbody tr th:only-of-type {\n",
       "        vertical-align: middle;\n",
       "    }\n",
       "\n",
       "    .dataframe tbody tr th {\n",
       "        vertical-align: top;\n",
       "    }\n",
       "\n",
       "    .dataframe thead th {\n",
       "        text-align: right;\n",
       "    }\n",
       "</style>\n",
       "<table border=\"1\" class=\"dataframe\">\n",
       "  <thead>\n",
       "    <tr style=\"text-align: right;\">\n",
       "      <th></th>\n",
       "      <th>Year</th>\n",
       "      <th># Wineries in US</th>\n",
       "      <th>Per capita_Gal of wine</th>\n",
       "    </tr>\n",
       "  </thead>\n",
       "  <tbody>\n",
       "    <tr>\n",
       "      <td>0</td>\n",
       "      <td>2009</td>\n",
       "      <td>6357</td>\n",
       "      <td>0.39</td>\n",
       "    </tr>\n",
       "    <tr>\n",
       "      <td>1</td>\n",
       "      <td>2010</td>\n",
       "      <td>6941</td>\n",
       "      <td>0.38</td>\n",
       "    </tr>\n",
       "    <tr>\n",
       "      <td>2</td>\n",
       "      <td>2011</td>\n",
       "      <td>7306</td>\n",
       "      <td>0.41</td>\n",
       "    </tr>\n",
       "    <tr>\n",
       "      <td>3</td>\n",
       "      <td>2012</td>\n",
       "      <td>7396</td>\n",
       "      <td>0.42</td>\n",
       "    </tr>\n",
       "    <tr>\n",
       "      <td>4</td>\n",
       "      <td>2013</td>\n",
       "      <td>7498</td>\n",
       "      <td>0.42</td>\n",
       "    </tr>\n",
       "    <tr>\n",
       "      <td>5</td>\n",
       "      <td>2014</td>\n",
       "      <td>7762</td>\n",
       "      <td>0.43</td>\n",
       "    </tr>\n",
       "    <tr>\n",
       "      <td>6</td>\n",
       "      <td>2015</td>\n",
       "      <td>8287</td>\n",
       "      <td>0.42</td>\n",
       "    </tr>\n",
       "    <tr>\n",
       "      <td>7</td>\n",
       "      <td>2016</td>\n",
       "      <td>8702</td>\n",
       "      <td>0.43</td>\n",
       "    </tr>\n",
       "    <tr>\n",
       "      <td>8</td>\n",
       "      <td>2017</td>\n",
       "      <td>9091</td>\n",
       "      <td>0.43</td>\n",
       "    </tr>\n",
       "    <tr>\n",
       "      <td>9</td>\n",
       "      <td>2018</td>\n",
       "      <td>9654</td>\n",
       "      <td>NaN</td>\n",
       "    </tr>\n",
       "  </tbody>\n",
       "</table>\n",
       "</div>"
      ],
      "text/plain": [
       "   Year  # Wineries in US  Per capita_Gal of wine\n",
       "0  2009              6357                    0.39\n",
       "1  2010              6941                    0.38\n",
       "2  2011              7306                    0.41\n",
       "3  2012              7396                    0.42\n",
       "4  2013              7498                    0.42\n",
       "5  2014              7762                    0.43\n",
       "6  2015              8287                    0.42\n",
       "7  2016              8702                    0.43\n",
       "8  2017              9091                    0.43\n",
       "9  2018              9654                     NaN"
      ]
     },
     "execution_count": 3,
     "metadata": {},
     "output_type": "execute_result"
    }
   ],
   "source": [
    "# combining both csv.files\n",
    "merged_wine = pd.merge(WR_df,AC_df, how='outer', on='Year')\n",
    "merged_wine"
   ]
  },
  {
   "cell_type": "code",
   "execution_count": 4,
   "metadata": {},
   "outputs": [
    {
     "data": {
      "text/html": [
       "<div>\n",
       "<style scoped>\n",
       "    .dataframe tbody tr th:only-of-type {\n",
       "        vertical-align: middle;\n",
       "    }\n",
       "\n",
       "    .dataframe tbody tr th {\n",
       "        vertical-align: top;\n",
       "    }\n",
       "\n",
       "    .dataframe thead th {\n",
       "        text-align: right;\n",
       "    }\n",
       "</style>\n",
       "<table border=\"1\" class=\"dataframe\">\n",
       "  <thead>\n",
       "    <tr style=\"text-align: right;\">\n",
       "      <th></th>\n",
       "      <th>Year</th>\n",
       "      <th># Wineries in US</th>\n",
       "      <th>Per capita_Gal of wine</th>\n",
       "    </tr>\n",
       "  </thead>\n",
       "  <tbody>\n",
       "    <tr>\n",
       "      <td>0</td>\n",
       "      <td>2009</td>\n",
       "      <td>6357</td>\n",
       "      <td>0.39</td>\n",
       "    </tr>\n",
       "    <tr>\n",
       "      <td>1</td>\n",
       "      <td>2010</td>\n",
       "      <td>6941</td>\n",
       "      <td>0.38</td>\n",
       "    </tr>\n",
       "    <tr>\n",
       "      <td>2</td>\n",
       "      <td>2011</td>\n",
       "      <td>7306</td>\n",
       "      <td>0.41</td>\n",
       "    </tr>\n",
       "    <tr>\n",
       "      <td>3</td>\n",
       "      <td>2012</td>\n",
       "      <td>7396</td>\n",
       "      <td>0.42</td>\n",
       "    </tr>\n",
       "    <tr>\n",
       "      <td>4</td>\n",
       "      <td>2013</td>\n",
       "      <td>7498</td>\n",
       "      <td>0.42</td>\n",
       "    </tr>\n",
       "    <tr>\n",
       "      <td>5</td>\n",
       "      <td>2014</td>\n",
       "      <td>7762</td>\n",
       "      <td>0.43</td>\n",
       "    </tr>\n",
       "    <tr>\n",
       "      <td>6</td>\n",
       "      <td>2015</td>\n",
       "      <td>8287</td>\n",
       "      <td>0.42</td>\n",
       "    </tr>\n",
       "    <tr>\n",
       "      <td>7</td>\n",
       "      <td>2016</td>\n",
       "      <td>8702</td>\n",
       "      <td>0.43</td>\n",
       "    </tr>\n",
       "    <tr>\n",
       "      <td>8</td>\n",
       "      <td>2017</td>\n",
       "      <td>9091</td>\n",
       "      <td>0.43</td>\n",
       "    </tr>\n",
       "  </tbody>\n",
       "</table>\n",
       "</div>"
      ],
      "text/plain": [
       "   Year  # Wineries in US  Per capita_Gal of wine\n",
       "0  2009              6357                    0.39\n",
       "1  2010              6941                    0.38\n",
       "2  2011              7306                    0.41\n",
       "3  2012              7396                    0.42\n",
       "4  2013              7498                    0.42\n",
       "5  2014              7762                    0.43\n",
       "6  2015              8287                    0.42\n",
       "7  2016              8702                    0.43\n",
       "8  2017              9091                    0.43"
      ]
     },
     "execution_count": 4,
     "metadata": {},
     "output_type": "execute_result"
    }
   ],
   "source": [
    "# dropping null row\n",
    "merged_wine = merged_wine.dropna(how='any')\n",
    "merged_wine"
   ]
  },
  {
   "cell_type": "code",
   "execution_count": 15,
   "metadata": {},
   "outputs": [
    {
     "data": {
      "image/png": "[encoded data removed]",
      "text/plain": [
       "<Figure size 432x288 with 2 Axes>"
      ]
     },
     "metadata": {
      "needs_background": "light"
     },
     "output_type": "display_data"
    }
   ],
   "source": [
    "#Plot graph with 2 \"y\" axes\n",
    "fig, ax1 = plt.subplots()\n",
    "\n",
    "#Plot bars\n",
    "\n",
    "ax1.bar(merged_wine['Year'],merged_wine['# Wineries in US'], color='r', alpha = 0.3, align ='center')\n",
    "ax1.set_xlabel('$Years$')\n",
    "ax1.set_ylabel('# of Wineries in the US')\n",
    "ax = plt.gca()\n",
    "ax.set_xlim([2008.5,2017.5])\n",
    "ax.set_ylim([0,9000])\n",
    "ax.set_facecolor(\"xkcd:light grey\")\n",
    "\n",
    "# Setting ax2 to be the second \"y\" axis with x shared\n",
    "ax2 = ax1.twinx()\n",
    "\n",
    "# line Plot\n",
    "ax2.plot(merged_wine['Year'],merged_wine['Per capita_Gal of wine'], color='b')\n",
    "ax2.set_ylabel('Per Capita Wine Consumption in Gallons')\n",
    "\n",
    "plt.title('Evolution of Wine Makers vs Per capita Wine Consumption in US')\n",
    "plt.tight_layout()\n",
    "plt.show()"
   ]
  },
  {
   "cell_type": "code",
   "execution_count": null,
   "metadata": {
    "scrolled": true
   },
   "outputs": [],
   "source": [
    "\n"
   ]
  },
  {
   "cell_type": "markdown",
   "metadata": {},
   "source": [
    "# Winery Growth on Five Most Important States"
   ]
  },
  {
   "cell_type": "code",
   "execution_count": 38,
   "metadata": {
    "scrolled": true
   },
   "outputs": [
    {
     "data": {
      "text/html": [
       "<div>\n",
       "<style scoped>\n",
       "    .dataframe tbody tr th:only-of-type {\n",
       "        vertical-align: middle;\n",
       "    }\n",
       "\n",
       "    .dataframe tbody tr th {\n",
       "        vertical-align: top;\n",
       "    }\n",
       "\n",
       "    .dataframe thead th {\n",
       "        text-align: right;\n",
       "    }\n",
       "</style>\n",
       "<table border=\"1\" class=\"dataframe\">\n",
       "  <thead>\n",
       "    <tr style=\"text-align: right;\">\n",
       "      <th></th>\n",
       "      <th>Wine2009</th>\n",
       "      <th>geographic area</th>\n",
       "      <th>Wine2017</th>\n",
       "      <th>Per Capita Increase(2009-2017)</th>\n",
       "      <th>Wine_Maker_Growth(2009-2017)</th>\n",
       "    </tr>\n",
       "  </thead>\n",
       "  <tbody>\n",
       "    <tr>\n",
       "      <td>0</td>\n",
       "      <td>0.57</td>\n",
       "      <td>California</td>\n",
       "      <td>0.58</td>\n",
       "      <td>0.01</td>\n",
       "      <td>1864.0</td>\n",
       "    </tr>\n",
       "    <tr>\n",
       "      <td>1</td>\n",
       "      <td>0.46</td>\n",
       "      <td>Colorado</td>\n",
       "      <td>0.52</td>\n",
       "      <td>0.06</td>\n",
       "      <td>88.0</td>\n",
       "    </tr>\n",
       "    <tr>\n",
       "      <td>2</td>\n",
       "      <td>0.49</td>\n",
       "      <td>Oregon</td>\n",
       "      <td>0.59</td>\n",
       "      <td>0.10</td>\n",
       "      <td>320.0</td>\n",
       "    </tr>\n",
       "    <tr>\n",
       "      <td>3</td>\n",
       "      <td>0.28</td>\n",
       "      <td>Texas</td>\n",
       "      <td>0.35</td>\n",
       "      <td>0.07</td>\n",
       "      <td>362.0</td>\n",
       "    </tr>\n",
       "    <tr>\n",
       "      <td>4</td>\n",
       "      <td>0.51</td>\n",
       "      <td>Washington</td>\n",
       "      <td>0.52</td>\n",
       "      <td>0.01</td>\n",
       "      <td>429.0</td>\n",
       "    </tr>\n",
       "  </tbody>\n",
       "</table>\n",
       "</div>"
      ],
      "text/plain": [
       "   Wine2009 geographic area  Wine2017  Per Capita Increase(2009-2017)  \\\n",
       "0      0.57      California      0.58                            0.01   \n",
       "1      0.46        Colorado      0.52                            0.06   \n",
       "2      0.49          Oregon      0.59                            0.10   \n",
       "3      0.28           Texas      0.35                            0.07   \n",
       "4      0.51      Washington      0.52                            0.01   \n",
       "\n",
       "   Wine_Maker_Growth(2009-2017)  \n",
       "0                        1864.0  \n",
       "1                          88.0  \n",
       "2                         320.0  \n",
       "3                         362.0  \n",
       "4                         429.0  "
      ]
     },
     "execution_count": 38,
     "metadata": {},
     "output_type": "execute_result"
    }
   ],
   "source": [
    "csvpath_PC = os.path.join('..', 'Data','Clean', 'Per_CapitaWine_state_final.csv')\n",
    "csvpath_BD = os.path.join('..', 'Data','Clean', 'Bonded_wine_state_2009-2017.csv')\n",
    "PC_df = pd.read_csv(csvpath_PC)\n",
    "BD_df = pd.read_csv(csvpath_BD)\n",
    "\n",
    "# combining both csv.files\n",
    "merged = pd.merge(PC_df,BD_df, how='outer', on='geographic area')\n",
    "merged"
   ]
  },
  {
   "cell_type": "code",
   "execution_count": 43,
   "metadata": {},
   "outputs": [
    {
     "data": {
      "image/png": "[encoded data removed]",
      "text/plain": [
       "<Figure size 432x288 with 2 Axes>"
      ]
     },
     "metadata": {
      "needs_background": "light"
     },
     "output_type": "display_data"
    }
   ],
   "source": [
    "#Plot graph with 2 \"y\" axes\n",
    "fig, a1 = plt.subplots()\n",
    "\n",
    "#Plot bars\n",
    "a1.set_facecolor(\"xkcd:light grey\")\n",
    "\n",
    "a1.bar(merged['geographic area'],merged['Per Capita Increase(2009-2017)'], color='b', alpha = 0.5, align ='center')\n",
    "a1.set_xlabel('$STATES$')\n",
    "a1.set_ylabel('Per Capita Growth in Gallons')\n",
    "\n",
    "\n",
    "# Setting ax2 to be the second \"y\" axis with x shared\n",
    "a2 = a1.twinx()\n",
    "\n",
    "# line Plot\n",
    "a2.plot(merged['geographic area'],merged['Wine_Maker_Growth(2009-2017)'], color='r', alpha =1)\n",
    "a2.set_ylabel('Increase in Wine Makers')\n",
    "\n",
    "\n",
    "\n",
    "plt.title('Evolution of Wine Makers vs Per capita Wine Consumption per State')\n",
    "plt.tight_layout()\n",
    "plt.show()"
   ]
  },
  {
   "cell_type": "code",
   "execution_count": null,
   "metadata": {},
   "outputs": [],
   "source": []
  },
  {
   "cell_type": "code",
   "execution_count": null,
   "metadata": {},
   "outputs": [],
   "source": []
  }
 ],
 "metadata": {
  "kernelspec": {
   "display_name": "Python 3",
   "language": "python",
   "name": "python3"
  },
  "language_info": {
   "codemirror_mode": {
    "name": "ipython",
    "version": 3
   },
   "file_extension": ".py",
   "mimetype": "text/x-python",
   "name": "python",
   "nbconvert_exporter": "python",
   "pygments_lexer": "ipython3",
   "version": "3.7.4"
  }
 },
 "nbformat": 4,
 "nbformat_minor": 2
}
